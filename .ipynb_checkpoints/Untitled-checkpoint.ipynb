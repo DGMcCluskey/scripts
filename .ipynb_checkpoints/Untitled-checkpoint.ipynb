{
 "cells": [
  {
   "cell_type": "code",
   "execution_count": 3,
   "id": "d7a67377-160c-476d-ab7f-30219faab7f6",
   "metadata": {},
   "outputs": [],
   "source": [
    "import matplotlib\n",
    "import matplotlib.pyplot as plt\n",
    "import pertpy as pt\n",
    "import scanpy as sc\n",
    "\n",
    "plt.rcParams[\"figure.figsize\"] = (7, 7)\n",
    "import numpy as np\n",
    "\n",
    "sc.settings.verbosity = 3"
   ]
  },
  {
   "cell_type": "code",
   "execution_count": 5,
   "id": "4f9cad30-6cb8-4d09-94c1-037ce84bc321",
   "metadata": {},
   "outputs": [],
   "source": [
    "import os\n",
    "os.chdir(\"C:\\\\Users\\\\dan94\\\\OneDrive - University College London\\\\UCL_Senior_Research_Fellow\\\\Tim_data\")\n",
    "os.listdir()\n",
    "os.environ[\"R_HOME\"] = \"C:\\\\Users\\\\dan94\\\\miniconda3\\\\envs\\\\scrnaseq\\\\Lib\\\\R\\\\\""
   ]
  },
  {
   "cell_type": "code",
   "execution_count": null,
   "id": "02e38cd5-2a53-440d-bdbd-f4c386e6d99b",
   "metadata": {},
   "outputs": [],
   "source": []
  }
 ],
 "metadata": {
  "kernelspec": {
   "display_name": "Python 3 (ipykernel)",
   "language": "python",
   "name": "python3"
  },
  "language_info": {
   "codemirror_mode": {
    "name": "ipython",
    "version": 3
   },
   "file_extension": ".py",
   "mimetype": "text/x-python",
   "name": "python",
   "nbconvert_exporter": "python",
   "pygments_lexer": "ipython3",
   "version": "3.12.3"
  }
 },
 "nbformat": 4,
 "nbformat_minor": 5
}
